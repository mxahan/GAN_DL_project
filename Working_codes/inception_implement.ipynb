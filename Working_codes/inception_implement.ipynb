{
 "cells": [
  {
   "cell_type": "code",
   "execution_count": 8,
   "metadata": {
    "scrolled": true
   },
   "outputs": [
    {
     "name": "stdout",
     "output_type": "stream",
     "text": [
      "['monkey_labels.txt', 'training', '.ipynb_checkpoints', 'Untitled.ipynb', '10-monkey-species.zip', 'validation', 'Untitled1.ipynb']\n"
     ]
    }
   ],
   "source": [
    "from __future__ import absolute_import, division, print_function, unicode_literals\n",
    "import numpy as np\n",
    "import tensorflow as tf\n",
    "import os, math, cv2, glob, random, time\n",
    "os.environ['TF_FORCE_GPU_ALLOW_GROWTH'] = 'true'\n",
    "# This Python 3 environment comes with many helpful analytics libraries installed\n",
    "# It is defined by the kaggle/python docker image: https://github.com/kaggle/docker-python\n",
    "# For example, here's several helpful packages to load in \n",
    "\n",
    "import numpy as np # linear algebra\n",
    "import pandas as pd # data processing, CSV file I/O (e.g. pd.read_csv)\n",
    "\n",
    "# Input data files are available in the \"../input/\" directory.\n",
    "# For example, running this (by clicking run or pressing Shift+Enter) will list the files in the input directory\n",
    "\n",
    "import os\n",
    "print(os.listdir(\"../monkey10K\"))\n",
    "\n",
    "# Any results you write to the current directory are saved as output."
   ]
  },
  {
   "cell_type": "code",
   "execution_count": 18,
   "metadata": {},
   "outputs": [],
   "source": [
    "train_dir = '../monkey10K/training/training/'\n",
    "val_dir = '../monkey10K/validation/validation/'"
   ]
  },
  {
   "cell_type": "code",
   "execution_count": 13,
   "metadata": {},
   "outputs": [
    {
     "data": {
      "text/html": [
       "<div>\n",
       "<style scoped>\n",
       "    .dataframe tbody tr th:only-of-type {\n",
       "        vertical-align: middle;\n",
       "    }\n",
       "\n",
       "    .dataframe tbody tr th {\n",
       "        vertical-align: top;\n",
       "    }\n",
       "\n",
       "    .dataframe thead th {\n",
       "        text-align: right;\n",
       "    }\n",
       "</style>\n",
       "<table border=\"1\" class=\"dataframe\">\n",
       "  <thead>\n",
       "    <tr style=\"text-align: right;\">\n",
       "      <th></th>\n",
       "      <th>Label</th>\n",
       "      <th>Latin Name</th>\n",
       "      <th>Common Name</th>\n",
       "      <th>Train Images</th>\n",
       "      <th>Validation Images</th>\n",
       "    </tr>\n",
       "  </thead>\n",
       "  <tbody>\n",
       "    <tr>\n",
       "      <th>0</th>\n",
       "      <td>n0</td>\n",
       "      <td>alouatta_palliata\\t</td>\n",
       "      <td>mantled_howler</td>\n",
       "      <td>131</td>\n",
       "      <td>26</td>\n",
       "    </tr>\n",
       "    <tr>\n",
       "      <th>1</th>\n",
       "      <td>n1</td>\n",
       "      <td>erythrocebus_patas\\t</td>\n",
       "      <td>patas_monkey</td>\n",
       "      <td>139</td>\n",
       "      <td>28</td>\n",
       "    </tr>\n",
       "    <tr>\n",
       "      <th>2</th>\n",
       "      <td>n2</td>\n",
       "      <td>cacajao_calvus\\t</td>\n",
       "      <td>bald_uakari</td>\n",
       "      <td>137</td>\n",
       "      <td>27</td>\n",
       "    </tr>\n",
       "    <tr>\n",
       "      <th>3</th>\n",
       "      <td>n3</td>\n",
       "      <td>macaca_fuscata\\t</td>\n",
       "      <td>japanese_macaque</td>\n",
       "      <td>152</td>\n",
       "      <td>30</td>\n",
       "    </tr>\n",
       "    <tr>\n",
       "      <th>4</th>\n",
       "      <td>n4</td>\n",
       "      <td>cebuella_pygmea\\t</td>\n",
       "      <td>pygmy_marmoset</td>\n",
       "      <td>131</td>\n",
       "      <td>26</td>\n",
       "    </tr>\n",
       "    <tr>\n",
       "      <th>5</th>\n",
       "      <td>n5</td>\n",
       "      <td>cebus_capucinus\\t</td>\n",
       "      <td>white_headed_capuchin</td>\n",
       "      <td>141</td>\n",
       "      <td>28</td>\n",
       "    </tr>\n",
       "    <tr>\n",
       "      <th>6</th>\n",
       "      <td>n6</td>\n",
       "      <td>mico_argentatus\\t</td>\n",
       "      <td>silvery_marmoset</td>\n",
       "      <td>132</td>\n",
       "      <td>26</td>\n",
       "    </tr>\n",
       "    <tr>\n",
       "      <th>7</th>\n",
       "      <td>n7</td>\n",
       "      <td>saimiri_sciureus\\t</td>\n",
       "      <td>common_squirrel_monkey</td>\n",
       "      <td>142</td>\n",
       "      <td>28</td>\n",
       "    </tr>\n",
       "    <tr>\n",
       "      <th>8</th>\n",
       "      <td>n8</td>\n",
       "      <td>aotus_nigriceps\\t</td>\n",
       "      <td>black_headed_night_monkey</td>\n",
       "      <td>133</td>\n",
       "      <td>27</td>\n",
       "    </tr>\n",
       "    <tr>\n",
       "      <th>9</th>\n",
       "      <td>n9</td>\n",
       "      <td>trachypithecus_johnii</td>\n",
       "      <td>nilgiri_langur</td>\n",
       "      <td>132</td>\n",
       "      <td>26</td>\n",
       "    </tr>\n",
       "  </tbody>\n",
       "</table>\n",
       "</div>"
      ],
      "text/plain": [
       "   Label     Latin Name              Common Name                     \\\n",
       "0  n0         alouatta_palliata\\t    mantled_howler                   \n",
       "1  n1        erythrocebus_patas\\t    patas_monkey                     \n",
       "2  n2        cacajao_calvus\\t        bald_uakari                      \n",
       "3  n3        macaca_fuscata\\t        japanese_macaque                 \n",
       "4  n4       cebuella_pygmea\\t        pygmy_marmoset                   \n",
       "5  n5       cebus_capucinus\\t        white_headed_capuchin            \n",
       "6  n6       mico_argentatus\\t        silvery_marmoset                 \n",
       "7  n7      saimiri_sciureus\\t        common_squirrel_monkey           \n",
       "8  n8       aotus_nigriceps\\t        black_headed_night_monkey        \n",
       "9  n9       trachypithecus_johnii    nilgiri_langur                   \n",
       "\n",
       "    Train Images    Validation Images  \n",
       "0             131                  26  \n",
       "1             139                  28  \n",
       "2             137                  27  \n",
       "3             152                  30  \n",
       "4             131                  26  \n",
       "5             141                  28  \n",
       "6             132                  26  \n",
       "7             142                  28  \n",
       "8             133                  27  \n",
       "9             132                  26  "
      ]
     },
     "execution_count": 13,
     "metadata": {},
     "output_type": "execute_result"
    }
   ],
   "source": [
    "labels = pd.read_csv(\"../monkey10K/monkey_labels.txt\")\n",
    "num_classes = labels['Label'].size\n",
    "labels"
   ]
  },
  {
   "cell_type": "code",
   "execution_count": 14,
   "metadata": {},
   "outputs": [],
   "source": [
    "# for display images in notebook\n",
    "from IPython.display import Image, display\n",
    "\n",
    "from os import listdir\n",
    "%matplotlib inline"
   ]
  },
  {
   "cell_type": "code",
   "execution_count": 15,
   "metadata": {},
   "outputs": [],
   "source": [
    "IMAGE_WIDTH = 150\n",
    "IMAGE_HEIGHT = 150\n",
    "BATCH_SIZE = 24"
   ]
  },
  {
   "cell_type": "code",
   "execution_count": 16,
   "metadata": {},
   "outputs": [],
   "source": [
    "from keras.preprocessing.image import ImageDataGenerator, array_to_img, img_to_array, load_img\n",
    "from keras.applications.inception_v3 import preprocess_input\n",
    "\n",
    "\n",
    "## use inception's own preprocess function\n",
    "train_data_gen_aug=ImageDataGenerator(\n",
    "                              preprocessing_function=preprocess_input,\n",
    "                              rotation_range=20,\n",
    "                              width_shift_range=0.2,\n",
    "                              height_shift_range=0.2,\n",
    "#                               shear_range=0.2,\n",
    "#                               horizontal_flip=True,\n",
    "#                               fill_mode='nearest' # default is nearest\n",
    "                             )\n",
    "\n",
    "validation_data_gen=ImageDataGenerator(\n",
    "                                       preprocessing_function=preprocess_input\n",
    "                                      )"
   ]
  },
  {
   "cell_type": "code",
   "execution_count": 19,
   "metadata": {},
   "outputs": [
    {
     "name": "stdout",
     "output_type": "stream",
     "text": [
      "Found 1098 images belonging to 10 classes.\n",
      "Found 272 images belonging to 10 classes.\n"
     ]
    }
   ],
   "source": [
    "train_gen=train_data_gen_aug.flow_from_directory(train_dir,\n",
    "                                            target_size=(IMAGE_WIDTH,\n",
    "                                                       IMAGE_HEIGHT),\n",
    "                                            batch_size=BATCH_SIZE,\n",
    "                                            shuffle=True,\n",
    "                                            class_mode=\"categorical\")\n",
    "val_gen = validation_data_gen.flow_from_directory(val_dir, \n",
    "                                                    target_size=(IMAGE_WIDTH, IMAGE_HEIGHT), \n",
    "                                                    batch_size = BATCH_SIZE, \n",
    "                                                    class_mode=\"categorical\")"
   ]
  },
  {
   "cell_type": "code",
   "execution_count": 20,
   "metadata": {},
   "outputs": [
    {
     "data": {
      "text/plain": [
       "45"
      ]
     },
     "execution_count": 20,
     "metadata": {},
     "output_type": "execute_result"
    }
   ],
   "source": [
    "train_count=1097\n",
    "val_count=272\n",
    "steps_per_epoch=train_count//BATCH_SIZE\n",
    "steps_per_epoch"
   ]
  },
  {
   "cell_type": "code",
   "execution_count": 22,
   "metadata": {},
   "outputs": [],
   "source": [
    "from keras.applications import InceptionV3\n",
    "from keras.models import Sequential\n",
    "from keras.layers import Dense, GlobalAveragePooling2D, Dropout\n",
    "\n",
    "# set  up the model\n",
    "model=Sequential()\n",
    "# add inception pretrained model, the wieghts 80Mb\n",
    "model.add(InceptionV3(include_top=False, \n",
    "                      pooling='avg', \n",
    "                      weights='inception_v3_weights_tf_dim_ordering_tf_kernels_notop.h5'\n",
    "                     ))\n",
    "# use relu as activation function \"vanishing gradiends\" :)\n",
    "# model.add(Dense(2048, activation=\"relu\"))  \n",
    "# # add drop out to avoid overfitting\n",
    "# model.add(Dropout(0.25))\n",
    "model.add(Dense(num_classes, activation=\"softmax\"))"
   ]
  },
  {
   "cell_type": "code",
   "execution_count": 23,
   "metadata": {},
   "outputs": [],
   "source": [
    "model.layers[0].trainable=False"
   ]
  },
  {
   "cell_type": "code",
   "execution_count": 24,
   "metadata": {},
   "outputs": [
    {
     "name": "stdout",
     "output_type": "stream",
     "text": [
      "Model: \"sequential_2\"\n",
      "_________________________________________________________________\n",
      "Layer (type)                 Output Shape              Param #   \n",
      "=================================================================\n",
      "inception_v3 (Model)         (None, 2048)              21802784  \n",
      "_________________________________________________________________\n",
      "dense_1 (Dense)              (None, 10)                20490     \n",
      "=================================================================\n",
      "Total params: 21,823,274\n",
      "Trainable params: 20,490\n",
      "Non-trainable params: 21,802,784\n",
      "_________________________________________________________________\n"
     ]
    }
   ],
   "source": [
    "model.summary()"
   ]
  },
  {
   "cell_type": "code",
   "execution_count": 25,
   "metadata": {},
   "outputs": [],
   "source": [
    "from keras import optimizers\n",
    "adam = optimizers.Adam(lr=0.0001, beta_1=0.9, beta_2=0.999, epsilon=1e-08, decay=0.00001)\n",
    "# use adam to avoid overfitting\n",
    "\n",
    "model.compile(loss=\"categorical_crossentropy\",\n",
    "              optimizer=adam,\n",
    "              metrics=[\"accuracy\"])"
   ]
  },
  {
   "cell_type": "code",
   "execution_count": 26,
   "metadata": {},
   "outputs": [
    {
     "name": "stdout",
     "output_type": "stream",
     "text": [
      "Epoch 1/48\n",
      "45/45 [==============================] - 37s 818ms/step - loss: 2.4017 - accuracy: 0.1155 - val_loss: 3.0594 - val_accuracy: 0.1742\n",
      "Epoch 2/48\n",
      "45/45 [==============================] - 26s 579ms/step - loss: 2.2530 - accuracy: 0.1629 - val_loss: 3.2819 - val_accuracy: 0.2742\n",
      "Epoch 3/48\n",
      "45/45 [==============================] - 25s 560ms/step - loss: 2.1467 - accuracy: 0.2123 - val_loss: 2.1335 - val_accuracy: 0.3226\n",
      "Epoch 4/48\n",
      "45/45 [==============================] - 25s 564ms/step - loss: 2.0223 - accuracy: 0.2905 - val_loss: 1.9839 - val_accuracy: 0.4234\n",
      "Epoch 5/48\n",
      "45/45 [==============================] - 24s 543ms/step - loss: 1.9640 - accuracy: 0.3175 - val_loss: 2.1011 - val_accuracy: 0.4960\n",
      "Epoch 6/48\n",
      "45/45 [==============================] - 25s 551ms/step - loss: 1.8646 - accuracy: 0.3948 - val_loss: 2.3348 - val_accuracy: 0.5403\n",
      "Epoch 7/48\n",
      "45/45 [==============================] - 22s 500ms/step - loss: 1.8229 - accuracy: 0.4041 - val_loss: 1.4921 - val_accuracy: 0.6089\n",
      "Epoch 8/48\n",
      "45/45 [==============================] - 21s 476ms/step - loss: 1.7330 - accuracy: 0.4544 - val_loss: 0.7317 - val_accuracy: 0.6371\n",
      "Epoch 9/48\n",
      "45/45 [==============================] - 23s 514ms/step - loss: 1.6928 - accuracy: 0.4739 - val_loss: 0.8448 - val_accuracy: 0.6290\n",
      "Epoch 10/48\n",
      "45/45 [==============================] - 25s 552ms/step - loss: 1.6420 - accuracy: 0.5000 - val_loss: 1.4029 - val_accuracy: 0.6694\n",
      "Epoch 11/48\n",
      "45/45 [==============================] - 22s 479ms/step - loss: 1.6325 - accuracy: 0.5028 - val_loss: 0.4401 - val_accuracy: 0.7016\n",
      "Epoch 12/48\n",
      "45/45 [==============================] - 23s 510ms/step - loss: 1.6027 - accuracy: 0.4954 - val_loss: 1.2184 - val_accuracy: 0.6976\n",
      "Epoch 13/48\n",
      "45/45 [==============================] - 22s 493ms/step - loss: 1.5530 - accuracy: 0.5197 - val_loss: 0.5971 - val_accuracy: 0.6970\n",
      "Epoch 14/48\n",
      "45/45 [==============================] - 29s 652ms/step - loss: 1.5285 - accuracy: 0.5410 - val_loss: 0.4983 - val_accuracy: 0.7460\n",
      "Epoch 15/48\n",
      "45/45 [==============================] - 21s 477ms/step - loss: 1.4783 - accuracy: 0.5885 - val_loss: 0.7290 - val_accuracy: 0.7298\n",
      "Epoch 16/48\n",
      "45/45 [==============================] - 23s 520ms/step - loss: 1.4610 - accuracy: 0.5726 - val_loss: 0.8735 - val_accuracy: 0.7460\n",
      "Epoch 17/48\n",
      "45/45 [==============================] - 21s 469ms/step - loss: 1.4134 - accuracy: 0.5981 - val_loss: 0.6376 - val_accuracy: 0.7742\n",
      "Epoch 18/48\n",
      "45/45 [==============================] - 23s 509ms/step - loss: 1.4251 - accuracy: 0.5796 - val_loss: 0.3106 - val_accuracy: 0.7621\n",
      "Epoch 19/48\n",
      "45/45 [==============================] - 24s 540ms/step - loss: 1.3463 - accuracy: 0.6204 - val_loss: 0.6479 - val_accuracy: 0.7419\n",
      "Epoch 20/48\n",
      "45/45 [==============================] - 21s 463ms/step - loss: 1.3155 - accuracy: 0.6339 - val_loss: 0.8012 - val_accuracy: 0.7823\n",
      "Epoch 21/48\n",
      "45/45 [==============================] - 25s 553ms/step - loss: 1.3431 - accuracy: 0.6173 - val_loss: 0.4804 - val_accuracy: 0.7702\n",
      "Epoch 22/48\n",
      "45/45 [==============================] - 21s 460ms/step - loss: 1.3095 - accuracy: 0.6276 - val_loss: 1.2034 - val_accuracy: 0.7863\n",
      "Epoch 23/48\n",
      "45/45 [==============================] - 23s 521ms/step - loss: 1.2749 - accuracy: 0.6574 - val_loss: 0.6489 - val_accuracy: 0.8226\n",
      "Epoch 24/48\n",
      "45/45 [==============================] - 22s 496ms/step - loss: 1.2361 - accuracy: 0.6769 - val_loss: 0.4713 - val_accuracy: 0.7903\n",
      "Epoch 25/48\n",
      "45/45 [==============================] - 24s 532ms/step - loss: 1.2526 - accuracy: 0.6685 - val_loss: 0.8971 - val_accuracy: 0.8333\n",
      "Epoch 26/48\n",
      "45/45 [==============================] - 26s 586ms/step - loss: 1.2518 - accuracy: 0.6454 - val_loss: 0.8969 - val_accuracy: 0.8065\n",
      "Epoch 27/48\n",
      "45/45 [==============================] - 22s 481ms/step - loss: 1.2032 - accuracy: 0.6648 - val_loss: 1.0806 - val_accuracy: 0.8185\n",
      "Epoch 28/48\n",
      "45/45 [==============================] - 23s 505ms/step - loss: 1.2136 - accuracy: 0.6555 - val_loss: 0.4839 - val_accuracy: 0.8266\n",
      "Epoch 29/48\n",
      "45/45 [==============================] - 21s 477ms/step - loss: 1.1768 - accuracy: 0.6899 - val_loss: 0.3398 - val_accuracy: 0.8145\n",
      "Epoch 30/48\n",
      "45/45 [==============================] - 25s 561ms/step - loss: 1.1873 - accuracy: 0.6796 - val_loss: 0.4375 - val_accuracy: 0.8024\n",
      "Epoch 31/48\n",
      "45/45 [==============================] - 22s 489ms/step - loss: 1.1397 - accuracy: 0.6890 - val_loss: 0.4061 - val_accuracy: 0.8226\n",
      "Epoch 32/48\n",
      "45/45 [==============================] - 24s 524ms/step - loss: 1.1327 - accuracy: 0.7207 - val_loss: 0.4819 - val_accuracy: 0.8226\n",
      "Epoch 33/48\n",
      "45/45 [==============================] - 23s 502ms/step - loss: 1.1122 - accuracy: 0.7160 - val_loss: 0.3242 - val_accuracy: 0.8387\n",
      "Epoch 34/48\n",
      "45/45 [==============================] - 25s 547ms/step - loss: 1.1174 - accuracy: 0.7002 - val_loss: 0.5029 - val_accuracy: 0.7984\n",
      "Epoch 35/48\n",
      "45/45 [==============================] - 24s 534ms/step - loss: 1.1261 - accuracy: 0.7051 - val_loss: 0.5028 - val_accuracy: 0.8105\n",
      "Epoch 36/48\n",
      "45/45 [==============================] - 22s 484ms/step - loss: 1.0968 - accuracy: 0.7076 - val_loss: 0.2530 - val_accuracy: 0.8266\n",
      "Epoch 37/48\n",
      "45/45 [==============================] - 25s 545ms/step - loss: 1.1028 - accuracy: 0.6843 - val_loss: 0.6625 - val_accuracy: 0.8258\n",
      "Epoch 38/48\n",
      "45/45 [==============================] - 27s 609ms/step - loss: 1.0961 - accuracy: 0.7039 - val_loss: 0.5543 - val_accuracy: 0.8347\n",
      "Epoch 39/48\n",
      "45/45 [==============================] - 24s 522ms/step - loss: 1.1037 - accuracy: 0.7069 - val_loss: 0.8753 - val_accuracy: 0.8347\n",
      "Epoch 40/48\n",
      "45/45 [==============================] - 23s 507ms/step - loss: 1.0942 - accuracy: 0.6935 - val_loss: 0.4462 - val_accuracy: 0.8387\n",
      "Epoch 41/48\n",
      "45/45 [==============================] - 24s 525ms/step - loss: 1.0448 - accuracy: 0.7188 - val_loss: 0.3535 - val_accuracy: 0.8629\n",
      "Epoch 42/48\n",
      "45/45 [==============================] - 24s 533ms/step - loss: 1.0770 - accuracy: 0.6993 - val_loss: 0.8315 - val_accuracy: 0.8105\n",
      "Epoch 43/48\n",
      "45/45 [==============================] - 22s 496ms/step - loss: 1.0463 - accuracy: 0.7225 - val_loss: 0.3211 - val_accuracy: 0.8589\n",
      "Epoch 44/48\n",
      "45/45 [==============================] - 23s 517ms/step - loss: 1.0294 - accuracy: 0.7114 - val_loss: 0.8441 - val_accuracy: 0.8427\n",
      "Epoch 45/48\n",
      "45/45 [==============================] - 23s 520ms/step - loss: 1.0468 - accuracy: 0.7169 - val_loss: 0.8054 - val_accuracy: 0.8306\n",
      "Epoch 46/48\n",
      "45/45 [==============================] - 23s 512ms/step - loss: 1.0104 - accuracy: 0.7374 - val_loss: 0.3031 - val_accuracy: 0.8710\n",
      "Epoch 47/48\n",
      "45/45 [==============================] - 23s 515ms/step - loss: 1.0178 - accuracy: 0.7169 - val_loss: 0.6643 - val_accuracy: 0.8508\n",
      "Epoch 48/48\n",
      "45/45 [==============================] - 23s 516ms/step - loss: 1.0007 - accuracy: 0.7244 - val_loss: 0.2330 - val_accuracy: 0.8508\n"
     ]
    }
   ],
   "source": [
    "model_history = model.fit_generator(train_gen,\n",
    "                                    steps_per_epoch=steps_per_epoch,\n",
    "                                    epochs=48,\n",
    "                                    validation_data=val_gen,\n",
    "                                    validation_steps=val_count // BATCH_SIZE\n",
    "                                   )"
   ]
  },
  {
   "cell_type": "code",
   "execution_count": 27,
   "metadata": {},
   "outputs": [],
   "source": [
    "model.save('incept_adv.h5') "
   ]
  },
  {
   "cell_type": "code",
   "execution_count": 36,
   "metadata": {},
   "outputs": [
    {
     "data": {
      "text/plain": [
       "dict_keys(['val_loss', 'val_accuracy', 'loss', 'accuracy'])"
      ]
     },
     "execution_count": 36,
     "metadata": {},
     "output_type": "execute_result"
    },
    {
     "data": {
      "image/png": "[encoded data removed]",
      "text/plain": [
       "<Figure size 864x432 with 1 Axes>"
      ]
     },
     "metadata": {
      "needs_background": "light"
     },
     "output_type": "display_data"
    }
   ],
   "source": [
    "import pandas as pd\n",
    "history = pd.DataFrame()\n",
    "history[\"acc\"] = model_history.history[\"accuracy\"]\n",
    "history[\"val_acc\"] = model_history.history[\"val_accuracy\"]\n",
    "history.plot(figsize=(12, 6))\n",
    "model_history.history.keys()"
   ]
  },
  {
   "cell_type": "code",
   "execution_count": 38,
   "metadata": {},
   "outputs": [
    {
     "data": {
      "image/png": "[encoded data removed]",
      "text/plain": [
       "<Figure size 432x288 with 1 Axes>"
      ]
     },
     "metadata": {
      "needs_background": "light"
     },
     "output_type": "display_data"
    },
    {
     "data": {
      "image/png": "[encoded data removed]",
      "text/plain": [
       "<Figure size 432x288 with 1 Axes>"
      ]
     },
     "metadata": {
      "needs_background": "light"
     },
     "output_type": "display_data"
    }
   ],
   "source": [
    "acc = model_history.history['accuracy']\n",
    "val_acc = model_history.history['val_accuracy']\n",
    "loss = model_history.history['loss']\n",
    "val_loss = model_history.history['val_loss']\n",
    "epochs = range(1, len(acc) + 1)\n",
    "\n",
    "import matplotlib.pyplot as plt\n",
    "\n",
    "plt.title('Training and validation accuracy')\n",
    "plt.plot(epochs, acc, 'red', label='Training acc')\n",
    "plt.plot(epochs, val_acc, 'blue', label='Validation acc')\n",
    "plt.legend()\n",
    "\n",
    "plt.figure()\n",
    "plt.title('Training and validation loss')\n",
    "plt.plot(epochs, loss, 'red', label='Training loss')\n",
    "plt.plot(epochs, val_loss, 'blue', label='Validation loss')\n",
    "\n",
    "plt.legend()\n",
    "\n",
    "plt.show()"
   ]
  },
  {
   "cell_type": "code",
   "execution_count": null,
   "metadata": {},
   "outputs": [],
   "source": []
  }
 ],
 "metadata": {
  "kernelspec": {
   "display_name": "Python 3",
   "language": "python",
   "name": "python3"
  },
  "language_info": {
   "codemirror_mode": {
    "name": "ipython",
    "version": 3
   },
   "file_extension": ".py",
   "mimetype": "text/x-python",
   "name": "python",
   "nbconvert_exporter": "python",
   "pygments_lexer": "ipython3",
   "version": "3.7.6"
  }
 },
 "nbformat": 4,
 "nbformat_minor": 4
}
